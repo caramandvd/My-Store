{
 "cells": [
  {
   "cell_type": "code",
   "execution_count": 3,
   "id": "b7f85477-5d93-4c24-b88d-aa8fce9ef4f9",
   "metadata": {},
   "outputs": [],
   "source": [
    "import pandas as pd\n",
    "import pprint"
   ]
  },
  {
   "cell_type": "code",
   "execution_count": 4,
   "id": "ed704cd5-ca9e-43a5-b3fe-aaec7e2c18f5",
   "metadata": {},
   "outputs": [],
   "source": [
    "df = pd.read_csv(r'C:\\Users\\David\\Desktop\\Eklesia Academy\\electronics store\\My-Store\\clients.csv')"
   ]
  },
  {
   "cell_type": "code",
   "execution_count": 5,
   "id": "bdc2dfec-74aa-40f8-9454-2c6e7283ab9c",
   "metadata": {},
   "outputs": [
    {
     "data": {
      "text/html": [
       "<div>\n",
       "<style scoped>\n",
       "    .dataframe tbody tr th:only-of-type {\n",
       "        vertical-align: middle;\n",
       "    }\n",
       "\n",
       "    .dataframe tbody tr th {\n",
       "        vertical-align: top;\n",
       "    }\n",
       "\n",
       "    .dataframe thead th {\n",
       "        text-align: right;\n",
       "    }\n",
       "</style>\n",
       "<table border=\"1\" class=\"dataframe\">\n",
       "  <thead>\n",
       "    <tr style=\"text-align: right;\">\n",
       "      <th></th>\n",
       "      <th>ID</th>\n",
       "      <th>CNP</th>\n",
       "      <th>Last Name</th>\n",
       "      <th>First Name</th>\n",
       "      <th>Date of Birth</th>\n",
       "      <th>Email</th>\n",
       "    </tr>\n",
       "  </thead>\n",
       "  <tbody>\n",
       "    <tr>\n",
       "      <th>0</th>\n",
       "      <td>1</td>\n",
       "      <td>1680213123456</td>\n",
       "      <td>Pop</td>\n",
       "      <td>Ion</td>\n",
       "      <td>1968-02-13</td>\n",
       "      <td>popion@email.com</td>\n",
       "    </tr>\n",
       "    <tr>\n",
       "      <th>1</th>\n",
       "      <td>2</td>\n",
       "      <td>6030221123456</td>\n",
       "      <td>Stan</td>\n",
       "      <td>Ana</td>\n",
       "      <td>2003-02-21</td>\n",
       "      <td>stanana@email.com</td>\n",
       "    </tr>\n",
       "    <tr>\n",
       "      <th>2</th>\n",
       "      <td>3</td>\n",
       "      <td>1760213123456</td>\n",
       "      <td>Popescu</td>\n",
       "      <td>Andrei</td>\n",
       "      <td>1976-02-13</td>\n",
       "      <td>andreipopescu@email.com</td>\n",
       "    </tr>\n",
       "    <tr>\n",
       "      <th>3</th>\n",
       "      <td>4</td>\n",
       "      <td>6041211123456</td>\n",
       "      <td>Iulia</td>\n",
       "      <td>Dancila</td>\n",
       "      <td>2004-12-11</td>\n",
       "      <td>iuliadancila@email.com</td>\n",
       "    </tr>\n",
       "  </tbody>\n",
       "</table>\n",
       "</div>"
      ],
      "text/plain": [
       "   ID            CNP Last Name First Name Date of Birth   \n",
       "0   1  1680213123456       Pop        Ion    1968-02-13  \\\n",
       "1   2  6030221123456      Stan        Ana    2003-02-21   \n",
       "2   3  1760213123456   Popescu     Andrei    1976-02-13   \n",
       "3   4  6041211123456     Iulia    Dancila    2004-12-11   \n",
       "\n",
       "                     Email  \n",
       "0         popion@email.com  \n",
       "1        stanana@email.com  \n",
       "2  andreipopescu@email.com  \n",
       "3   iuliadancila@email.com  "
      ]
     },
     "execution_count": 5,
     "metadata": {},
     "output_type": "execute_result"
    }
   ],
   "source": [
    "df"
   ]
  },
  {
   "cell_type": "code",
   "execution_count": 1,
   "id": "d20413ff-64e8-492d-b2d8-3ffca8d8e131",
   "metadata": {},
   "outputs": [
    {
     "name": "stdout",
     "output_type": "stream",
     "text": [
      "{1: {'cnp': '1680213123456', 'last_name': 'Pop', 'first_name': 'Ion', 'date_of_birth': '1968-02-13', 'email': 'popion@email.com'}, 2: {'cnp': '6030221123456', 'last_name': 'Stan', 'first_name': 'Ana', 'date_of_birth': '2003-02-21', 'email': 'stanana@email.com'}, 3: {'cnp': '1760213123456', 'last_name': 'Popescu', 'first_name': 'Andrei', 'date_of_birth': '1976-02-13', 'email': 'andreipopescu@email.com'}, 4: {'cnp': '6041211123456', 'last_name': 'Iulia', 'first_name': 'Dancila', 'date_of_birth': '2004-12-11', 'email': 'iuliadancila@email.com'}, 5: {'cnp': '8247219026622', 'last_name': 'Cross', 'first_name': 'Justin', 'date_of_birth': '1994-08-26', 'email': 'email5@example.com'}, 6: {'cnp': '7489671786216', 'last_name': 'Lin', 'first_name': 'Joe', 'date_of_birth': '1976-05-25', 'email': 'email6@example.com'}, 7: {'cnp': '6615651184227', 'last_name': 'Cain', 'first_name': 'Michael', 'date_of_birth': '1947-08-01', 'email': 'email7@example.com'}, 8: {'cnp': '0610149530939', 'last_name': 'Wolf', 'first_name': 'Michele', 'date_of_birth': '1904-07-11', 'email': 'email8@example.com'}, 9: {'cnp': '5440773699179', 'last_name': 'Duncan', 'first_name': 'Sara', 'date_of_birth': '1962-12-24', 'email': 'email9@example.com'}, 10: {'cnp': '1634316004635', 'last_name': 'Peck', 'first_name': 'Stephen', 'date_of_birth': '1913-07-06', 'email': 'email10@example.com'}, 11: {'cnp': '3368664258009', 'last_name': 'Jackson', 'first_name': 'Victoria', 'date_of_birth': '1985-09-09', 'email': 'email11@example.com'}, 12: {'cnp': '2480785105550', 'last_name': 'Weiss', 'first_name': 'Bradley', 'date_of_birth': '1954-12-05', 'email': 'email12@example.com'}, 13: {'cnp': '5837709422094', 'last_name': 'Carter', 'first_name': 'Stacey', 'date_of_birth': '1955-10-17', 'email': 'email13@example.com'}, 14: {'cnp': '8064952481517', 'last_name': 'Jones', 'first_name': 'Brandon', 'date_of_birth': '1923-12-11', 'email': 'email14@example.com'}, 15: {'cnp': '4309765238091', 'last_name': 'Brown', 'first_name': 'Jessica', 'date_of_birth': '1927-05-21', 'email': 'email15@example.com'}, 16: {'cnp': '8727500093647', 'last_name': 'Green', 'first_name': 'Deanna', 'date_of_birth': '1903-09-19', 'email': 'email16@example.com'}, 17: {'cnp': '3955108225287', 'last_name': 'Brown', 'first_name': 'Gerald', 'date_of_birth': '1952-08-18', 'email': 'email17@example.com'}, 18: {'cnp': '0846115680426', 'last_name': 'Houston', 'first_name': 'David', 'date_of_birth': '2003-04-06', 'email': 'email18@example.com'}, 19: {'cnp': '3825840983818', 'last_name': 'Spence', 'first_name': 'Tonya', 'date_of_birth': '1936-03-16', 'email': 'email19@example.com'}, 20: {'cnp': '4263219427055', 'last_name': 'Bridges', 'first_name': 'Robin', 'date_of_birth': '1985-02-01', 'email': 'email20@example.com'}, 21: {'cnp': '9941736617124', 'last_name': 'Cook', 'first_name': 'John', 'date_of_birth': '1981-11-16', 'email': 'email21@example.com'}, 22: {'cnp': '0478804519079', 'last_name': 'Williams', 'first_name': 'Laura', 'date_of_birth': '1947-04-08', 'email': 'email22@example.com'}, 23: {'cnp': '2501340018451', 'last_name': 'Coleman', 'first_name': 'Brittany', 'date_of_birth': '1944-07-09', 'email': 'email23@example.com'}, 24: {'cnp': '4082813689429', 'last_name': 'Bryant', 'first_name': 'Brandon', 'date_of_birth': '1961-03-08', 'email': 'email24@example.com'}, 25: {'cnp': '3642151292151', 'last_name': 'Lucas', 'first_name': 'John', 'date_of_birth': '2002-05-25', 'email': 'email25@example.com'}, 26: {'cnp': '5241620083003', 'last_name': 'Mooney', 'first_name': 'Shawn', 'date_of_birth': '1985-06-10', 'email': 'email26@example.com'}, 27: {'cnp': '9304545647955', 'last_name': 'Graham', 'first_name': 'Jason', 'date_of_birth': '1910-05-12', 'email': 'email27@example.com'}, 28: {'cnp': '5940147014620', 'last_name': 'Maldonado', 'first_name': 'Kristen', 'date_of_birth': '1927-04-08', 'email': 'email28@example.com'}, 29: {'cnp': '0948289060719', 'last_name': 'Kaufman', 'first_name': 'Ronald', 'date_of_birth': '1969-09-04', 'email': 'email29@example.com'}, 30: {'cnp': '4701624687390', 'last_name': 'Hamilton', 'first_name': 'Emily', 'date_of_birth': '1964-06-26', 'email': 'email30@example.com'}, 31: {'cnp': '9572075964181', 'last_name': 'Wheeler', 'first_name': 'Anna', 'date_of_birth': '1926-05-23', 'email': 'email31@example.com'}, 32: {'cnp': '6187473302468', 'last_name': 'Jennings', 'first_name': 'Robin', 'date_of_birth': '1924-05-19', 'email': 'email32@example.com'}, 33: {'cnp': '9117307538892', 'last_name': 'Taylor', 'first_name': 'Edwin', 'date_of_birth': '1939-12-06', 'email': 'email33@example.com'}, 34: {'cnp': '0067508480836', 'last_name': 'Silva', 'first_name': 'Kathleen', 'date_of_birth': '1919-12-13', 'email': 'email34@example.com'}, 35: {'cnp': '2220671173851', 'last_name': 'Hawkins', 'first_name': 'Timothy', 'date_of_birth': '1935-07-26', 'email': 'email35@example.com'}, 36: {'cnp': '2471684556318', 'last_name': 'Romero', 'first_name': 'Elizabeth', 'date_of_birth': '1957-08-28', 'email': 'email36@example.com'}, 37: {'cnp': '9993100372308', 'last_name': 'Patel', 'first_name': 'Andrew', 'date_of_birth': '1934-12-02', 'email': 'email37@example.com'}, 38: {'cnp': '8704572494634', 'last_name': 'Miranda', 'first_name': 'Susan', 'date_of_birth': '1935-04-14', 'email': 'email38@example.com'}, 39: {'cnp': '1097114914738', 'last_name': 'Dorsey', 'first_name': 'Austin', 'date_of_birth': '1901-06-27', 'email': 'email39@example.com'}, 40: {'cnp': '0174218718625', 'last_name': 'Haas', 'first_name': 'Jesus', 'date_of_birth': '1999-03-03', 'email': 'email40@example.com'}, 41: {'cnp': '9764918645014', 'last_name': 'Garza', 'first_name': 'Paula', 'date_of_birth': '1914-03-27', 'email': 'email41@example.com'}, 42: {'cnp': '2743828198548', 'last_name': 'Soto', 'first_name': 'Adam', 'date_of_birth': '1942-11-14', 'email': 'email42@example.com'}, 43: {'cnp': '5719865156298', 'last_name': 'Jones', 'first_name': 'Jennifer', 'date_of_birth': '1945-05-27', 'email': 'email43@example.com'}, 44: {'cnp': '0393592046333', 'last_name': 'Goodman', 'first_name': 'Melinda', 'date_of_birth': '1970-04-23', 'email': 'email44@example.com'}, 45: {'cnp': '8550576395465', 'last_name': 'Morales', 'first_name': 'Sarah', 'date_of_birth': '1962-02-17', 'email': 'email45@example.com'}, 46: {'cnp': '8305142371826', 'last_name': 'Torres', 'first_name': 'Patricia', 'date_of_birth': '1977-10-14', 'email': 'email46@example.com'}, 47: {'cnp': '3338072963995', 'last_name': 'Porter', 'first_name': 'Molly', 'date_of_birth': '1961-04-14', 'email': 'email47@example.com'}, 48: {'cnp': '5462472956903', 'last_name': 'Rivera', 'first_name': 'Matthew', 'date_of_birth': '1912-05-19', 'email': 'email48@example.com'}, 49: {'cnp': '3110593818760', 'last_name': 'Harris', 'first_name': 'Susan', 'date_of_birth': '1953-10-10', 'email': 'email49@example.com'}, 50: {'cnp': '7505401823291', 'last_name': 'Hernandez', 'first_name': 'Patrick', 'date_of_birth': '1914-11-04', 'email': 'email50@example.com'}, 51: {'cnp': '6994822464724', 'last_name': 'Mason', 'first_name': 'Lauren', 'date_of_birth': '1929-01-19', 'email': 'email51@example.com'}, 52: {'cnp': '9236403267988', 'last_name': 'Jones', 'first_name': 'Cynthia', 'date_of_birth': '1971-08-08', 'email': 'email52@example.com'}, 53: {'cnp': '7615103699403', 'last_name': 'Farmer', 'first_name': 'Tiffany', 'date_of_birth': '1925-08-18', 'email': 'email53@example.com'}, 54: {'cnp': '2024403213632', 'last_name': 'Gomez', 'first_name': 'Amy', 'date_of_birth': '1927-03-06', 'email': 'email54@example.com'}, 55: {'cnp': '4307548821719', 'last_name': 'Cook', 'first_name': 'Gregory', 'date_of_birth': '1960-08-04', 'email': 'email55@example.com'}, 56: {'cnp': '8863344788578', 'last_name': 'Crawford', 'first_name': 'Tabitha', 'date_of_birth': '1947-08-08', 'email': 'email56@example.com'}, 57: {'cnp': '3007429312032', 'last_name': 'King', 'first_name': 'Jacqueline', 'date_of_birth': '1966-04-08', 'email': 'email57@example.com'}, 58: {'cnp': '8928358134272', 'last_name': 'Colon', 'first_name': 'Christopher', 'date_of_birth': '1959-02-09', 'email': 'email58@example.com'}, 59: {'cnp': '2298216123566', 'last_name': 'Greer', 'first_name': 'Joel', 'date_of_birth': '1979-12-08', 'email': 'email59@example.com'}, 60: {'cnp': '7790896064533', 'last_name': 'Stafford', 'first_name': 'Philip', 'date_of_birth': '1980-06-27', 'email': 'email60@example.com'}, 61: {'cnp': '3729275225448', 'last_name': 'Green', 'first_name': 'Jasmin', 'date_of_birth': '1951-06-07', 'email': 'email61@example.com'}, 62: {'cnp': '6288047166399', 'last_name': 'Vargas', 'first_name': 'Aaron', 'date_of_birth': '1984-01-14', 'email': 'email62@example.com'}, 63: {'cnp': '4047013043411', 'last_name': 'Taylor', 'first_name': 'Marc', 'date_of_birth': '1936-02-24', 'email': 'email63@example.com'}, 64: {'cnp': '7367189948428', 'last_name': 'Yates', 'first_name': 'Luis', 'date_of_birth': '1993-06-01', 'email': 'email64@example.com'}, 65: {'cnp': '0461687260748', 'last_name': 'Brewer', 'first_name': 'Kendra', 'date_of_birth': '1964-01-26', 'email': 'email65@example.com'}, 66: {'cnp': '3696863938154', 'last_name': 'Galloway', 'first_name': 'Kathy', 'date_of_birth': '1903-12-09', 'email': 'email66@example.com'}, 67: {'cnp': '3605491145487', 'last_name': 'Cruz', 'first_name': 'Jennifer', 'date_of_birth': '1987-10-06', 'email': 'email67@example.com'}, 68: {'cnp': '7344972893978', 'last_name': 'Maynard', 'first_name': 'Brenda', 'date_of_birth': '1931-04-22', 'email': 'email68@example.com'}, 69: {'cnp': '5558779621985', 'last_name': 'Mckinney', 'first_name': 'Karen', 'date_of_birth': '1942-11-17', 'email': 'email69@example.com'}, 70: {'cnp': '9379911910400', 'last_name': 'Watts', 'first_name': 'Cody', 'date_of_birth': '1918-10-09', 'email': 'email70@example.com'}, 71: {'cnp': '7290200941239', 'last_name': 'Bates', 'first_name': 'Jeffrey', 'date_of_birth': '1984-01-09', 'email': 'email71@example.com'}, 72: {'cnp': '0526627534452', 'last_name': 'Brown', 'first_name': 'Ryan', 'date_of_birth': '1909-04-15', 'email': 'email72@example.com'}, 73: {'cnp': '8547578351494', 'last_name': 'Martinez', 'first_name': 'Tabitha', 'date_of_birth': '1922-10-10', 'email': 'email73@example.com'}, 74: {'cnp': '0880086245763', 'last_name': 'Kaufman', 'first_name': 'Terry', 'date_of_birth': '1998-06-11', 'email': 'email74@example.com'}, 75: {'cnp': '9160114464858', 'last_name': 'Sanford', 'first_name': 'Daniel', 'date_of_birth': '1903-05-08', 'email': 'email75@example.com'}, 76: {'cnp': '1616256912418', 'last_name': 'Gonzalez', 'first_name': 'James', 'date_of_birth': '1916-08-06', 'email': 'email76@example.com'}, 77: {'cnp': '2935583441644', 'last_name': 'Yates', 'first_name': 'Daniel', 'date_of_birth': '1945-12-20', 'email': 'email77@example.com'}, 78: {'cnp': '7730459683392', 'last_name': 'Cabrera', 'first_name': 'Tiffany', 'date_of_birth': '1950-04-15', 'email': 'email78@example.com'}, 79: {'cnp': '9110556711217', 'last_name': 'Reyes', 'first_name': 'Jacob', 'date_of_birth': '1964-02-13', 'email': 'email79@example.com'}, 80: {'cnp': '7876745996729', 'last_name': 'Ramirez', 'first_name': 'Emma', 'date_of_birth': '1986-03-01', 'email': 'email80@example.com'}, 81: {'cnp': '9997945008340', 'last_name': 'Miller', 'first_name': 'Mary', 'date_of_birth': '1958-12-27', 'email': 'email81@example.com'}, 82: {'cnp': '7500367795186', 'last_name': 'Rodriguez', 'first_name': 'Derrick', 'date_of_birth': '1901-04-26', 'email': 'email82@example.com'}, 83: {'cnp': '3177431498163', 'last_name': 'Carlson', 'first_name': 'David', 'date_of_birth': '1994-08-27', 'email': 'email83@example.com'}, 84: {'cnp': '3840676793515', 'last_name': 'Payne', 'first_name': 'Tracey', 'date_of_birth': '1981-07-03', 'email': 'email84@example.com'}, 85: {'cnp': '9761043213529', 'last_name': 'Patterson', 'first_name': 'Erin', 'date_of_birth': '1978-01-10', 'email': 'email85@example.com'}, 86: {'cnp': '8777201005749', 'last_name': 'Vaughan', 'first_name': 'Troy', 'date_of_birth': '1954-05-11', 'email': 'email86@example.com'}, 87: {'cnp': '6110768305413', 'last_name': 'Rivera', 'first_name': 'Vincent', 'date_of_birth': '1954-03-07', 'email': 'email87@example.com'}, 88: {'cnp': '2297667147260', 'last_name': 'Cameron', 'first_name': 'Michael', 'date_of_birth': '1929-09-09', 'email': 'email88@example.com'}, 89: {'cnp': '3098983877529', 'last_name': 'Charles', 'first_name': 'Karen', 'date_of_birth': '1919-07-09', 'email': 'email89@example.com'}, 90: {'cnp': '3580137040884', 'last_name': 'Taylor', 'first_name': 'Richard', 'date_of_birth': '1986-10-25', 'email': 'email90@example.com'}, 91: {'cnp': '2764207421548', 'last_name': 'Alvarez', 'first_name': 'Sarah', 'date_of_birth': '1903-03-27', 'email': 'email91@example.com'}, 92: {'cnp': '0714920455076', 'last_name': 'Reed', 'first_name': 'Luis', 'date_of_birth': '1900-02-01', 'email': 'email92@example.com'}, 93: {'cnp': '9393247247118', 'last_name': 'Moody', 'first_name': 'Brooke', 'date_of_birth': '1949-08-28', 'email': 'email93@example.com'}, 94: {'cnp': '8710178320921', 'last_name': 'Hawkins', 'first_name': 'Erica', 'date_of_birth': '1978-10-10', 'email': 'email94@example.com'}, 95: {'cnp': '1291147604872', 'last_name': 'Guerrero', 'first_name': 'Madison', 'date_of_birth': '1975-01-27', 'email': 'email95@example.com'}, 96: {'cnp': '2949941565165', 'last_name': 'Robertson', 'first_name': 'Darryl', 'date_of_birth': '2002-04-17', 'email': 'email96@example.com'}, 97: {'cnp': '9589917555864', 'last_name': 'Jones', 'first_name': 'Jose', 'date_of_birth': '1988-05-17', 'email': 'email97@example.com'}, 98: {'cnp': '8020313489994', 'last_name': 'Liu', 'first_name': 'Diane', 'date_of_birth': '1932-01-01', 'email': 'email98@example.com'}, 99: {'cnp': '0618616674440', 'last_name': 'Lutz', 'first_name': 'Sydney', 'date_of_birth': '1970-10-17', 'email': 'email99@example.com'}, 100: {'cnp': '2221355544887', 'last_name': 'Mitchell', 'first_name': 'Levi', 'date_of_birth': '1976-12-12', 'email': 'email100@example.com'}, 101: {'cnp': '3135476711818', 'last_name': 'Martin', 'first_name': 'Tina', 'date_of_birth': '1979-06-26', 'email': 'email101@example.com'}, 102: {'cnp': '1075879120828', 'last_name': 'Rodriguez', 'first_name': 'Richard', 'date_of_birth': '1920-11-02', 'email': 'email102@example.com'}, 103: {'cnp': '0930550976411', 'last_name': 'Brooks', 'first_name': 'Lee', 'date_of_birth': '1911-06-20', 'email': 'email103@example.com'}, 104: {'cnp': '6608870706262', 'last_name': 'Sanchez', 'first_name': 'Aaron', 'date_of_birth': '1960-10-16', 'email': 'email104@example.com'}, 105: {'cnp': '1413549397016', 'last_name': 'Bender', 'first_name': 'William', 'date_of_birth': '1948-01-27', 'email': 'email105@example.com'}}\n"
     ]
    }
   ],
   "source": [
    "import random\n",
    "import datetime\n",
    "from faker import Faker\n",
    "\n",
    "# Initialize the Faker library\n",
    "fake = Faker()\n",
    "\n",
    "# Existing clients\n",
    "clients = {\n",
    "    1: {'cnp': '1680213123456',\n",
    "        'last_name': 'Pop',\n",
    "        'first_name': 'Ion',\n",
    "        'date_of_birth': '1968-02-13',\n",
    "        'email': 'popion@email.com'\n",
    "        },\n",
    "    2: {'cnp': '6030221123456',\n",
    "        'last_name': 'Stan',\n",
    "        'first_name': 'Ana',\n",
    "        'date_of_birth': '2003-02-21',\n",
    "        'email': 'stanana@email.com'\n",
    "        },\n",
    "    3: {'cnp': '1760213123456',\n",
    "        'last_name': 'Popescu',\n",
    "        'first_name': 'Andrei',\n",
    "        'date_of_birth': '1976-02-13',\n",
    "        'email': 'andreipopescu@email.com'\n",
    "        },\n",
    "    4: {'cnp': '6041211123456',\n",
    "        'last_name': 'Iulia',\n",
    "        'first_name': 'Dancila',\n",
    "        'date_of_birth': '2004-12-11',\n",
    "        'email': 'iuliadancila@email.com'\n",
    "        }\n",
    "}\n",
    "\n",
    "# Generate 100 new clients\n",
    "for i in range(5, 106):\n",
    "    cnp = ''.join([str(random.randint(0, 9)) for _ in range(13)])\n",
    "    year = random.randint(1900, 2003)\n",
    "    month = random.randint(1, 12)\n",
    "    day = random.randint(1, 28)  # To avoid issues with invalid dates\n",
    "    \n",
    "    last_name = fake.last_name()\n",
    "    first_name = fake.first_name()\n",
    "    email = 'email{}@example.com'.format(i)\n",
    "    \n",
    "    dob = datetime.date(year, month, day).strftime('%Y-%m-%d')\n",
    "    \n",
    "    clients[i] = {\n",
    "        'cnp': cnp,\n",
    "        'last_name': last_name,\n",
    "        'first_name': first_name,\n",
    "        'date_of_birth': dob,\n",
    "        'email': email\n",
    "    }\n",
    "\n",
    "# Output the updated clients dictionary with 100 new clients\n",
    "print(clients)\n"
   ]
  },
  {
   "cell_type": "code",
   "execution_count": null,
   "id": "c5a02361-a2a7-4831-9434-ba80b00f3b61",
   "metadata": {},
   "outputs": [],
   "source": []
  }
 ],
 "metadata": {
  "kernelspec": {
   "display_name": "Python 3 (ipykernel)",
   "language": "python",
   "name": "python3"
  },
  "language_info": {
   "codemirror_mode": {
    "name": "ipython",
    "version": 3
   },
   "file_extension": ".py",
   "mimetype": "text/x-python",
   "name": "python",
   "nbconvert_exporter": "python",
   "pygments_lexer": "ipython3",
   "version": "3.10.7"
  }
 },
 "nbformat": 4,
 "nbformat_minor": 5
}
